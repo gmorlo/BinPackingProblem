{
 "cells": [
  {
   "cell_type": "code",
   "execution_count": 1,
   "metadata": {},
   "outputs": [],
   "source": [
    "from utils import generate_items\n",
    "bin_capacity = 30\n",
    "from bin_packing_solver import test_solver, solve_bin_packing\n",
    "\n"
   ]
  },
  {
   "cell_type": "code",
   "execution_count": 2,
   "metadata": {},
   "outputs": [
    {
     "name": "stdout",
     "output_type": "stream",
     "text": [
      "--------------------------------------------------\n",
      "generate_random_solution\n",
      "Full bins: 13, Not full bins: 4\n",
      "Score: 20.1\n",
      "Elapsed time: 0.0009 seconds\n",
      "--------------------------------------------------\n",
      "first_fit\n",
      "Full bins: 14, Not full bins: 3\n",
      "Score: 20.1\n",
      "Elapsed time: 0.0005 seconds\n",
      "--------------------------------------------------\n",
      "first_fit_decreasing\n",
      "Full bins: 15, Not full bins: 1\n",
      "Score: 16.1\n",
      "Elapsed time: 0.0005 seconds\n",
      "--------------------------------------------------\n",
      "full_bin_packing\n",
      "Full bins: 15, Not full bins: 1\n",
      "Score: 16.1\n",
      "Elapsed time: 0.0005 seconds\n",
      "--------------------------------------------------\n"
     ]
    }
   ],
   "source": [
    "print(\"--------------------------------------------------\")\n",
    "print(\"generate_random_solution\")\n",
    "test_solver(\"generate_random_solution\", bin_capacity, generate_items())\n",
    "print(\"--------------------------------------------------\")\n",
    "print(\"first_fit\")\n",
    "test_solver(\"first_fit\", bin_capacity, generate_items())\n",
    "print(\"--------------------------------------------------\")\n",
    "print(\"first_fit_decreasing\")\n",
    "test_solver(\"first_fit_decreasing\", bin_capacity, generate_items())\n",
    "print(\"--------------------------------------------------\")\n",
    "print(\"full_bin_packing\")\n",
    "test_solver(\"full_bin_packing\", bin_capacity, generate_items())\n",
    "print(\"--------------------------------------------------\")\n"
   ]
  },
  {
   "cell_type": "code",
   "execution_count": 3,
   "metadata": {},
   "outputs": [
    {
     "name": "stdout",
     "output_type": "stream",
     "text": [
      "Bin 1: [5, 3], Free Space: 2\n",
      "Bin 2: [8], Free Space: 2\n",
      "Bin 3: [7], Free Space: 3\n",
      "Full bins: 0, Not full bins: 3\n",
      "Score: 3.7\n",
      "Elapsed time: 0.0019 seconds\n"
     ]
    }
   ],
   "source": [
    "item_list = [5, 8, 3, 7]\n",
    "bin_capacity = 10\n",
    "result = test_solver(\"first_fit\", bin_capacity, item_list, display_bins_mode=True)\n"
   ]
  },
  {
   "cell_type": "code",
   "execution_count": 4,
   "metadata": {},
   "outputs": [
    {
     "name": "stdout",
     "output_type": "stream",
     "text": [
      "Bin 1: [3], Free Space: 7\n",
      "Bin 2: [8], Free Space: 2\n",
      "Bin 3: [7], Free Space: 3\n",
      "Bin 4: [5], Free Space: 5\n",
      "Full bins: 0, Not full bins: 4\n",
      "Score: 5.7\n",
      "Elapsed time: 0.0025 seconds\n"
     ]
    }
   ],
   "source": [
    "item_list = [5, 8, 3, 7]\n",
    "bin_capacity = 10\n",
    "result = test_solver(\"close_random_neighbor\", bin_capacity, item_list, display_bins_mode=True)\n"
   ]
  },
  {
   "cell_type": "code",
   "execution_count": 5,
   "metadata": {},
   "outputs": [
    {
     "name": "stdout",
     "output_type": "stream",
     "text": [
      "close_neighbors\n",
      "\n",
      "Neighbor 1:\n",
      "  Bin(items=[3], free=7)\n",
      "  Bin(items=[8], free=2)\n",
      "  Bin(items=[7], free=3)\n",
      "  Bin(items=[5], free=5)\n",
      "\n",
      "Neighbor 2:\n",
      "  Bin(items=[5], free=5)\n",
      "  Bin(items=[8], free=2)\n",
      "  Bin(items=[7, 3], free=0)\n",
      "\n",
      "Neighbor 3:\n",
      "  Bin(items=[5, 3], free=2)\n",
      "  Bin(items=[7], free=3)\n",
      "  Bin(items=[8], free=2)\n",
      "\n",
      "Neighbor 4:\n",
      "  Bin(items=[5, 3], free=2)\n",
      "  Bin(items=[7], free=3)\n"
     ]
    }
   ],
   "source": [
    "\n",
    "item_list = [5, 8, 3, 7]\n",
    "bin_capacity = 10\n",
    "print(\"close_neighbors\")\n",
    "neighbors = solve_bin_packing(\"close_neighbors\", bin_capacity, item_list)\n",
    "for i, neighbor in enumerate(neighbors):\n",
    "    print(f\"\\nNeighbor {i+1}:\")\n",
    "    for bin in neighbor:\n",
    "        print(f\"  {bin}\")"
   ]
  },
  {
   "cell_type": "code",
   "execution_count": 11,
   "metadata": {},
   "outputs": [
    {
     "name": "stdout",
     "output_type": "stream",
     "text": [
      "Bin 1: [4, 6], Free Space: 0\n",
      "Bin 2: [5, 3, 1], Free Space: 1\n",
      "Bin 3: [8, 2], Free Space: 0\n",
      "Bin 4: [7], Free Space: 3\n",
      "Full bins: 2, Not full bins: 2\n",
      "Score: 4.4\n",
      "Elapsed time: 0.0477 seconds\n"
     ]
    }
   ],
   "source": [
    "test_solver(\n",
    "    method='tabu_search',\n",
    "    bin_capacity=10,\n",
    "    item_list=[4, 8, 3, 2, 7, 1, 5, 6],\n",
    "    display_bins_mode=True,\n",
    ")\n"
   ]
  }
 ],
 "metadata": {
  "kernelspec": {
   "display_name": "Python 3",
   "language": "python",
   "name": "python3"
  },
  "language_info": {
   "codemirror_mode": {
    "name": "ipython",
    "version": 3
   },
   "file_extension": ".py",
   "mimetype": "text/x-python",
   "name": "python",
   "nbconvert_exporter": "python",
   "pygments_lexer": "ipython3",
   "version": "3.13.1"
  }
 },
 "nbformat": 4,
 "nbformat_minor": 2
}
