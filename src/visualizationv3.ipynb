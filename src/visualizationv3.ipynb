{
 "cells": [
  {
   "cell_type": "code",
   "execution_count": 1,
   "id": "b9b33bd1",
   "metadata": {},
   "outputs": [],
   "source": [
    "from bin_packing_genetic_methods import one_point_crossover, uniform_crossover, apply_crossover, swap_mutation, mutation_bit_flip\n"
   ]
  },
  {
   "cell_type": "code",
   "execution_count": 2,
   "id": "e6c0de33",
   "metadata": {},
   "outputs": [],
   "source": [
    "# Przykładowi rodzice (permutacje item_list)\n",
    "parent1 = [1, 2, 3, 4, 5, 6, 7, 8]\n",
    "parent2 = [8, 7, 6, 5, 4, 3, 2, 1]\n"
   ]
  },
  {
   "cell_type": "code",
   "execution_count": 3,
   "id": "90999b5a",
   "metadata": {},
   "outputs": [
    {
     "name": "stdout",
     "output_type": "stream",
     "text": [
      "One-point crossover:\n",
      "Population1: [1, 2, 3, 4, 5, 6, 7, 8]\n",
      "Population2: [8, 7, 6, 5, 4, 3, 2, 1]\n",
      "Child:   [[1, 8, 7, 6, 5, 4, 3, 2]]\n",
      "\n",
      "Uniform crossover:\n",
      "Population1: [1, 2, 3, 4, 5, 6, 7, 8]\n",
      "Population2: [8, 7, 6, 5, 4, 3, 2, 1]\n",
      "Child:   [[1, 2, 6, 5, 4, 3, 7, 8]]\n"
     ]
    }
   ],
   "source": [
    "print(\"One-point crossover:\")\n",
    "child1 = apply_crossover([parent1, parent2], method='one_point')\n",
    "print(\"Population1:\", parent1)\n",
    "print(\"Population2:\", parent2)\n",
    "\n",
    "print(\"Child:  \", child1)\n",
    "\n",
    "print(\"\\nUniform crossover:\")\n",
    "child2 = apply_crossover([parent1, parent2], method='uniform')\n",
    "print(\"Population1:\", parent1)\n",
    "print(\"Population2:\", parent2)\n",
    "\n",
    "print(\"Child:  \", child2)\n"
   ]
  },
  {
   "cell_type": "code",
   "execution_count": 4,
   "id": "9153e423",
   "metadata": {},
   "outputs": [
    {
     "name": "stdout",
     "output_type": "stream",
     "text": [
      "Score: 4.4\n",
      "\n",
      "Bin 1: [1, 8], Free Space: 1\n",
      "Bin 2: [7, 3], Free Space: 0\n",
      "Bin 3: [6, 4], Free Space: 0\n",
      "Bin 4: [5, 2], Free Space: 3\n"
     ]
    }
   ],
   "source": [
    "from bin_packing_methods import first_fit\n",
    "from objective_evaluate import evaluate_solution\n",
    "\n",
    "bin_capacity = 10\n",
    "\n",
    "bins = first_fit(bin_capacity, child1[0])\n",
    "score = evaluate_solution(bins)\n",
    "\n",
    "print(f\"Score: {score}\\n\")\n",
    "\n",
    "for i, b in enumerate(bins, start=1):\n",
    "    print(f\"Bin {i}: {b.item_list}, Free Space: {b.free_bin_capacity}\")\n"
   ]
  },
  {
   "cell_type": "code",
   "execution_count": 5,
   "id": "4374091a",
   "metadata": {},
   "outputs": [],
   "source": [
    "mutation_rate = 0.5  \n",
    "\n",
    "population = [\n",
    "    [1, 2, 3, 4, 5],\n",
    "    [5, 4, 3, 2, 1],\n",
    "    [2, 3, 1, 5, 4],\n",
    "    [3, 1, 4, 2, 5]\n",
    "]"
   ]
  },
  {
   "cell_type": "code",
   "execution_count": 6,
   "id": "39520962",
   "metadata": {},
   "outputs": [],
   "source": [
    "import random"
   ]
  },
  {
   "cell_type": "code",
   "execution_count": 7,
   "id": "4430fbe9",
   "metadata": {},
   "outputs": [
    {
     "name": "stdout",
     "output_type": "stream",
     "text": [
      "Mutated population (swap):\n",
      "1: [5, 2, 3, 4, 1]\n",
      "2: [5, 3, 4, 2, 1]\n",
      "3: [1, 3, 2, 5, 4]\n",
      "4: [3, 1, 4, 2, 5]\n"
     ]
    }
   ],
   "source": [
    "mutated_population = []\n",
    "for individual in population:\n",
    "    if random.random() < mutation_rate:\n",
    "        mutant = swap_mutation(individual)\n",
    "    else:\n",
    "        mutant = individual\n",
    "    mutated_population.append(mutant)\n",
    "\n",
    "print(\"Mutated population (swap):\")\n",
    "for i, ind in enumerate(mutated_population):\n",
    "    print(f\"{i+1}: {ind}\")\n"
   ]
  },
  {
   "cell_type": "code",
   "execution_count": 11,
   "id": "b2d03dbf",
   "metadata": {},
   "outputs": [
    {
     "name": "stdout",
     "output_type": "stream",
     "text": [
      "[0, 1, 3, 9, 1, 0, 0] -> [0, 1, 3, 9, 1, 0, 0]\n"
     ]
    }
   ],
   "source": [
    "original = [0, 1, 3, 9, 1, 0, 0]\n",
    "mutated = mutation_bit_flip(original, mutation_rate=0.2)\n",
    "print(f\"{original} -> {mutated}\")"
   ]
  }
 ],
 "metadata": {
  "kernelspec": {
   "display_name": "Python 3",
   "language": "python",
   "name": "python3"
  },
  "language_info": {
   "codemirror_mode": {
    "name": "ipython",
    "version": 3
   },
   "file_extension": ".py",
   "mimetype": "text/x-python",
   "name": "python",
   "nbconvert_exporter": "python",
   "pygments_lexer": "ipython3",
   "version": "3.13.1"
  }
 },
 "nbformat": 4,
 "nbformat_minor": 5
}
