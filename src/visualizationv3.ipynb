{
 "cells": [
  {
   "cell_type": "code",
   "execution_count": 1,
   "id": "b9b33bd1",
   "metadata": {},
   "outputs": [],
   "source": [
    "from bin_packing_genetic_methods import one_point_crossover, uniform_crossover, apply_crossover\n"
   ]
  },
  {
   "cell_type": "code",
   "execution_count": 2,
   "id": "e6c0de33",
   "metadata": {},
   "outputs": [],
   "source": [
    "# Przykładowi rodzice (permutacje item_list)\n",
    "parent1 = [1, 2, 3, 4, 5, 6, 7, 8]\n",
    "parent2 = [8, 7, 6, 5, 4, 3, 2, 1]\n"
   ]
  },
  {
   "cell_type": "code",
   "execution_count": null,
   "id": "90999b5a",
   "metadata": {},
   "outputs": [
    {
     "name": "stdout",
     "output_type": "stream",
     "text": [
      "One-point crossover:\n",
      "Population1: [1, 2, 3, 4, 5, 6, 7, 8]\n",
      "Population2: [8, 7, 6, 5, 4, 3, 2, 1]\n",
      "Child:   [[1, 2, 3, 4, 8, 7, 6, 5]]\n",
      "\n",
      "Uniform crossover:\n",
      "Population1: [1, 2, 3, 4, 5, 6, 7, 8]\n",
      "Population2: [8, 7, 6, 5, 4, 3, 2, 1]\n",
      "Child:   [[8, 7, 6, 4, 3, 2, 1, 5]]\n"
     ]
    }
   ],
   "source": [
    "print(\"One-point crossover:\")\n",
    "child1 = apply_crossover([parent1, parent2], method='one_point')\n",
    "print(\"Population1:\", parent1)\n",
    "print(\"Population2:\", parent2)\n",
    "\n",
    "print(\"Child:  \", child1)\n",
    "\n",
    "print(\"\\nUniform crossover:\")\n",
    "child2 = apply_crossover([parent1, parent2], method='uniform')\n",
    "print(\"Population1:\", parent1)\n",
    "print(\"Population2:\", parent2)\n",
    "\n",
    "print(\"Child:  \", child2)\n"
   ]
  },
  {
   "cell_type": "code",
   "execution_count": 5,
   "id": "9153e423",
   "metadata": {},
   "outputs": [
    {
     "name": "stdout",
     "output_type": "stream",
     "text": [
      "Score: 6.4\n",
      "\n",
      "Bin 1: [1, 2, 3, 4], Free Space: 0\n",
      "Bin 2: [8], Free Space: 2\n",
      "Bin 3: [7], Free Space: 3\n",
      "Bin 4: [6], Free Space: 4\n",
      "Bin 5: [5], Free Space: 5\n"
     ]
    }
   ],
   "source": [
    "from bin_packing_methods import first_fit\n",
    "from objective_evaluate import evaluate_solution\n",
    "\n",
    "bin_capacity = 10\n",
    "\n",
    "bins = first_fit(bin_capacity, child1[0])\n",
    "score = evaluate_solution(bins)\n",
    "\n",
    "print(f\"Score: {score}\\n\")\n",
    "\n",
    "for i, b in enumerate(bins, start=1):\n",
    "    print(f\"Bin {i}: {b.item_list}, Free Space: {b.free_bin_capacity}\")\n"
   ]
  }
 ],
 "metadata": {
  "kernelspec": {
   "display_name": "Python 3",
   "language": "python",
   "name": "python3"
  },
  "language_info": {
   "codemirror_mode": {
    "name": "ipython",
    "version": 3
   },
   "file_extension": ".py",
   "mimetype": "text/x-python",
   "name": "python",
   "nbconvert_exporter": "python",
   "pygments_lexer": "ipython3",
   "version": "3.13.1"
  }
 },
 "nbformat": 4,
 "nbformat_minor": 5
}
