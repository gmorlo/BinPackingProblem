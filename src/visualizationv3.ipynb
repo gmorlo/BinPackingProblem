{
 "cells": [
  {
   "cell_type": "code",
   "execution_count": null,
   "id": "b9b33bd1",
   "metadata": {},
   "outputs": [],
   "source": [
    "from bin_packing_genetic_methods import mutation_reassign_bin, apply_crossover, swap_mutation, mutation_remove_bit\n"
   ]
  },
  {
   "cell_type": "code",
   "execution_count": 2,
   "id": "e6c0de33",
   "metadata": {},
   "outputs": [],
   "source": [
    "# Przykładowi rodzice (permutacje item_list)\n",
    "parent1 = [1, 2, 3, 4, 5, 6, 7, 8]\n",
    "parent2 = [8, 7, 6, 5, 4, 3, 2, 1]\n"
   ]
  },
  {
   "cell_type": "code",
   "execution_count": 3,
   "id": "90999b5a",
   "metadata": {},
   "outputs": [
    {
     "name": "stdout",
     "output_type": "stream",
     "text": [
      "One-point crossover:\n",
      "Population1: [1, 2, 3, 4, 5, 6, 7, 8]\n",
      "Population2: [8, 7, 6, 5, 4, 3, 2, 1]\n",
      "Child:   [[1, 2, 8, 7, 6, 5, 4, 3]]\n",
      "\n",
      "Uniform crossover:\n",
      "Population1: [1, 2, 3, 4, 5, 6, 7, 8]\n",
      "Population2: [8, 7, 6, 5, 4, 3, 2, 1]\n",
      "Child:   [[8, 7, 3, 5, 4, 2, 1, 6]]\n"
     ]
    }
   ],
   "source": [
    "print(\"One-point crossover:\")\n",
    "child1 = apply_crossover([parent1, parent2], method='one_point')\n",
    "print(\"Population1:\", parent1)\n",
    "print(\"Population2:\", parent2)\n",
    "\n",
    "print(\"Child:  \", child1)\n",
    "\n",
    "print(\"\\nUniform crossover:\")\n",
    "child2 = apply_crossover([parent1, parent2], method='uniform')\n",
    "print(\"Population1:\", parent1)\n",
    "print(\"Population2:\", parent2)\n",
    "\n",
    "print(\"Child:  \", child2)\n"
   ]
  },
  {
   "cell_type": "code",
   "execution_count": 4,
   "id": "9153e423",
   "metadata": {},
   "outputs": [
    {
     "name": "stdout",
     "output_type": "stream",
     "text": [
      "Score: 4.4\n",
      "\n",
      "Bin 1: [1, 2, 7], Free Space: 0\n",
      "Bin 2: [8], Free Space: 2\n",
      "Bin 3: [6, 4], Free Space: 0\n",
      "Bin 4: [5, 3], Free Space: 2\n"
     ]
    }
   ],
   "source": [
    "from bin_packing_methods import first_fit\n",
    "from objective_evaluate import evaluate_solution\n",
    "\n",
    "bin_capacity = 10\n",
    "\n",
    "bins = first_fit(bin_capacity, child1[0])\n",
    "score = evaluate_solution(bins)\n",
    "\n",
    "print(f\"Score: {score}\\n\")\n",
    "\n",
    "for i, b in enumerate(bins, start=1):\n",
    "    print(f\"Bin {i}: {b.item_list}, Free Space: {b.free_bin_capacity}\")\n"
   ]
  },
  {
   "cell_type": "code",
   "execution_count": 5,
   "id": "4374091a",
   "metadata": {},
   "outputs": [],
   "source": [
    "mutation_rate = 0.5  \n",
    "\n",
    "population = [\n",
    "    [1, 2, 3, 4, 5],\n",
    "    [5, 4, 3, 2, 1],\n",
    "    [2, 3, 1, 5, 4],\n",
    "    [3, 1, 4, 2, 5]\n",
    "]"
   ]
  },
  {
   "cell_type": "code",
   "execution_count": 6,
   "id": "39520962",
   "metadata": {},
   "outputs": [],
   "source": [
    "import random"
   ]
  },
  {
   "cell_type": "code",
   "execution_count": 7,
   "id": "4430fbe9",
   "metadata": {},
   "outputs": [
    {
     "name": "stdout",
     "output_type": "stream",
     "text": [
      "Mutated population (swap):\n",
      "1: [5, 2, 3, 4, 1]\n",
      "2: [3, 4, 5, 2, 1]\n",
      "3: [2, 3, 1, 5, 4]\n",
      "4: [4, 1, 3, 2, 5]\n"
     ]
    }
   ],
   "source": [
    "mutated_population = []\n",
    "for individual in population:\n",
    "    if random.random() < mutation_rate:\n",
    "        mutant = swap_mutation(individual)\n",
    "    else:\n",
    "        mutant = individual\n",
    "    mutated_population.append(mutant)\n",
    "\n",
    "print(\"Mutated population (swap):\")\n",
    "for i, ind in enumerate(mutated_population):\n",
    "    print(f\"{i+1}: {ind}\")\n"
   ]
  },
  {
   "cell_type": "code",
   "execution_count": 8,
   "id": "b2d03dbf",
   "metadata": {},
   "outputs": [
    {
     "name": "stdout",
     "output_type": "stream",
     "text": [
      "[7, 1, 3, 9, 1, 9, 1, 1] -> [1, 3, 1, 9, 1, 1]\n"
     ]
    }
   ],
   "source": [
    "original = [7, 1, 3, 9, 1, 9, 1, 1]\n",
    "mutated = mutation_remove_bit(original, mutation_rate=0.2)\n",
    "print(f\"{original} -> {mutated}\")"
   ]
  },
  {
   "cell_type": "code",
   "execution_count": 9,
   "id": "d409b223",
   "metadata": {},
   "outputs": [
    {
     "ename": "NameError",
     "evalue": "name 'mutation_reassign_bin' is not defined",
     "output_type": "error",
     "traceback": [
      "\u001b[1;31m---------------------------------------------------------------------------\u001b[0m",
      "\u001b[1;31mNameError\u001b[0m                                 Traceback (most recent call last)",
      "Cell \u001b[1;32mIn[9], line 4\u001b[0m\n\u001b[0;32m      2\u001b[0m \u001b[38;5;28;01mfor\u001b[39;00m individual \u001b[38;5;129;01min\u001b[39;00m population:\n\u001b[0;32m      3\u001b[0m     \u001b[38;5;28;01mif\u001b[39;00m random\u001b[38;5;241m.\u001b[39mrandom() \u001b[38;5;241m<\u001b[39m mutation_rate:\n\u001b[1;32m----> 4\u001b[0m         mutant \u001b[38;5;241m=\u001b[39m \u001b[43mmutation_reassign_bin\u001b[49m(individual, max_bin)\n\u001b[0;32m      5\u001b[0m     \u001b[38;5;28;01melse\u001b[39;00m:\n\u001b[0;32m      6\u001b[0m         mutant \u001b[38;5;241m=\u001b[39m individual\n",
      "\u001b[1;31mNameError\u001b[0m: name 'mutation_reassign_bin' is not defined"
     ]
    }
   ],
   "source": [
    "mutated_population = []\n",
    "for individual in population:\n",
    "    if random.random() < mutation_rate:\n",
    "        mutant = mutation_reassign_bin(individual, max_bin)\n",
    "    else:\n",
    "        mutant = individual\n",
    "    mutated_population.append(mutant)\n",
    "\n",
    "print(\"Mutated population (reassign):\")\n",
    "for i, ind in enumerate(mutated_population):\n",
    "    print(f\"{i+1}: {ind}\")"
   ]
  }
 ],
 "metadata": {
  "kernelspec": {
   "display_name": "Python 3",
   "language": "python",
   "name": "python3"
  },
  "language_info": {
   "codemirror_mode": {
    "name": "ipython",
    "version": 3
   },
   "file_extension": ".py",
   "mimetype": "text/x-python",
   "name": "python",
   "nbconvert_exporter": "python",
   "pygments_lexer": "ipython3",
   "version": "3.13.1"
  }
 },
 "nbformat": 4,
 "nbformat_minor": 5
}
