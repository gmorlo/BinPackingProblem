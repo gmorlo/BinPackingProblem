{
 "cells": [
  {
   "cell_type": "code",
   "execution_count": 1,
   "metadata": {},
   "outputs": [],
   "source": [
    "from bin_packing_solver import *\n",
    "import numpy as np\n",
    "import random\n",
    "# random.seed(42)\n",
    "\n",
    "# sequence = (1,2,3,4,5,6,7,8,9,10)\n",
    "sequence = np.arange(1, 101)\n",
    "\n",
    "bin_capacity = 100\n",
    "item_list = random.choices(sequence, k=1000)\n"
   ]
  },
  {
   "cell_type": "code",
   "execution_count": 2,
   "metadata": {},
   "outputs": [],
   "source": [
    "import time\n",
    "\n",
    "class Timer:\n",
    "    def __init__(self):\n",
    "        self.start_time = None\n",
    "\n",
    "    def start(self):\n",
    "        self.start_time = time.time()\n",
    "    \n",
    "    def stop(self):\n",
    "        if self.start_time is None:\n",
    "            print(\"Timer was not started.\")\n",
    "        else:\n",
    "            elapsed = time.time() - self.start_time\n",
    "            print(f\"Elapsed time: {elapsed:.4f} seconds\")\n",
    "            self.start_time = None"
   ]
  },
  {
   "cell_type": "code",
   "execution_count": 3,
   "metadata": {},
   "outputs": [],
   "source": [
    "timer = Timer()"
   ]
  },
  {
   "cell_type": "code",
   "execution_count": 4,
   "metadata": {},
   "outputs": [],
   "source": [
    "def count_bins(bins: list[Bin]) -> Tuple[int, int]:\n",
    "    full_bins = 0\n",
    "    not_full_bins = 0\n",
    "\n",
    "    for bin in bins:\n",
    "        if bin.free_bin_capacity == 0:\n",
    "            full_bins += 1\n",
    "        else: \n",
    "            not_full_bins += 1\n",
    "\n",
    "    return full_bins, not_full_bins"
   ]
  },
  {
   "cell_type": "code",
   "execution_count": 5,
   "metadata": {},
   "outputs": [],
   "source": [
    "def display_bins(bins: list[Bin]):\n",
    "    for i, bin in enumerate(bins):\n",
    "        print(f\"Bin {i + 1}: {bin.item_list}, Free Space: {bin.free_bin_capacity}\")"
   ]
  },
  {
   "cell_type": "code",
   "execution_count": null,
   "metadata": {},
   "outputs": [],
   "source": [
    "def test_solver(method: str, \n",
    "                bin_capacity: int, \n",
    "                item_list: List,\n",
    "                display_bins_mode: bool,\n",
    "                count_bins_mode: bool) -> list[Bin]:\n",
    "    timer.start()\n",
    "    bins = solve_bin_packing(method, bin_capacity, item_list)\n",
    "    if display_bins_mode:\n",
    "        display_bins(bins)\n",
    "    if count_bins_mode:\n",
    "        full_bins, not_full_bins = count_bins(bins)\n",
    "        print(f\"Full bins: {full_bins}, Not full bins: {not_full_bins}\")\n",
    "    timer.stop()\n"
   ]
  },
  {
   "cell_type": "code",
   "execution_count": 7,
   "metadata": {},
   "outputs": [
    {
     "name": "stdout",
     "output_type": "stream",
     "text": [
      "Full bins: 167, Not full bins: 360\n",
      "Elapsed time: 0.0260 seconds\n"
     ]
    }
   ],
   "source": [
    "test_solver(\"first_fit\", bin_capacity, item_list)"
   ]
  },
  {
   "cell_type": "code",
   "execution_count": 8,
   "metadata": {},
   "outputs": [
    {
     "name": "stdout",
     "output_type": "stream",
     "text": [
      "Full bins: 418, Not full bins: 92\n",
      "Elapsed time: 0.0323 seconds\n"
     ]
    }
   ],
   "source": [
    "test_solver(\"first_fit_decreasing\", bin_capacity, item_list)"
   ]
  },
  {
   "cell_type": "markdown",
   "metadata": {},
   "source": [
    "python src/cli.py best_fit 10 4 8 1 4 2 3 6 5\n",
    "\n",
    "python src/cli.py first_fit 10 2 5 4 7 1 3 8\n"
   ]
  },
  {
   "cell_type": "code",
   "execution_count": null,
   "metadata": {},
   "outputs": [],
   "source": [
    "def full_bin_packing( \n",
    "        bin_capacity: int,\n",
    "        item_list: List,\n",
    "):\n",
    "        # TODO: Posortuj elementy malejąco\n",
    "        # TODO: Dla każdego bina:\n",
    "        #           - Utwórz nowy bin\n",
    "        #           - Dodawaj do niego największe możliwe elementy, które się jeszcze mieszczą\n",
    "        #           - Kontynuuj, aż bin będzie pełny lub nic więcej się nie zmieści\n",
    "        # TODO: Powtarzaj aż wszystkie elementy zostaną przypisane do binów\n",
    "        pass"
   ]
  }
 ],
 "metadata": {
  "kernelspec": {
   "display_name": "Python 3",
   "language": "python",
   "name": "python3"
  },
  "language_info": {
   "codemirror_mode": {
    "name": "ipython",
    "version": 3
   },
   "file_extension": ".py",
   "mimetype": "text/x-python",
   "name": "python",
   "nbconvert_exporter": "python",
   "pygments_lexer": "ipython3",
   "version": "3.13.1"
  }
 },
 "nbformat": 4,
 "nbformat_minor": 2
}
