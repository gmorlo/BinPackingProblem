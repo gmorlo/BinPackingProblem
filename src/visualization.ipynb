{
 "cells": [
  {
   "cell_type": "code",
   "execution_count": 1,
   "metadata": {},
   "outputs": [],
   "source": [
    "from bin_packing_solver import *\n",
    "import numpy as np\n",
    "import random\n",
    "# random.seed(42)\n",
    "\n",
    "# sequence = (1,2,3,4,5,6,7,8,9,10)\n",
    "sequence = np.arange(1, 101)\n",
    "\n",
    "bin_capacity = 100\n",
    "item_list = random.choices(sequence, k=1000)\n"
   ]
  },
  {
   "cell_type": "code",
   "execution_count": 2,
   "metadata": {},
   "outputs": [],
   "source": [
    "from utils import *"
   ]
  },
  {
   "cell_type": "code",
   "execution_count": 3,
   "metadata": {},
   "outputs": [
    {
     "name": "stdout",
     "output_type": "stream",
     "text": [
      "Full bins: 166, Not full bins: 383\n",
      "Elapsed time: 0.0361 seconds\n"
     ]
    }
   ],
   "source": [
    "test_solver(\"first_fit\", bin_capacity, item_list)"
   ]
  },
  {
   "cell_type": "code",
   "execution_count": 4,
   "metadata": {},
   "outputs": [
    {
     "name": "stdout",
     "output_type": "stream",
     "text": [
      "Full bins: 408, Not full bins: 123\n",
      "Elapsed time: 0.0359 seconds\n"
     ]
    }
   ],
   "source": [
    "test_solver(\"first_fit_decreasing\", bin_capacity, item_list)"
   ]
  },
  {
   "cell_type": "markdown",
   "metadata": {},
   "source": [
    "python src/cli.py best_fit 10 4 8 1 4 2 3 6 5\n",
    "\n",
    "python src/cli.py first_fit 10 2 5 4 7 1 3 8\n"
   ]
  },
  {
   "cell_type": "code",
   "execution_count": 5,
   "metadata": {},
   "outputs": [
    {
     "name": "stdout",
     "output_type": "stream",
     "text": [
      "Full bins: 408, Not full bins: 123\n",
      "Elapsed time: 0.0547 seconds\n"
     ]
    }
   ],
   "source": [
    "test_solver(\"full_bin_packing\", bin_capacity, item_list)"
   ]
  },
  {
   "cell_type": "code",
   "execution_count": null,
   "metadata": {},
   "outputs": [],
   "source": [
    "import os\n",
    "import json\n",
    "import random\n",
    "\n",
    "def generate_large_json_file(filename: str, num_items: int, min_val: int = 1, max_val: int = 100):\n",
    "    os.makedirs(os.path.dirname(filename), exist_ok=True)  # tworzy folder jeśli nie istnieje\n",
    "\n",
    "    data = {\n",
    "        \"items\": [random.randint(min_val, max_val) for _ in range(num_items)]\n",
    "    }\n",
    "\n",
    "    with open(filename, 'w') as f:\n",
    "        json.dump(data, f, indent=4)\n",
    "\n",
    "# Przykład użycia:\n",
    "\n",
    "generate_large_json_file(\n",
    "    \"C:/Users/gabry/Desktop/School_projects/MHE/bin_packing_project/data/big_items.json\", \n",
    "    num_items=10000)\n"
   ]
  }
 ],
 "metadata": {
  "kernelspec": {
   "display_name": "Python 3",
   "language": "python",
   "name": "python3"
  },
  "language_info": {
   "codemirror_mode": {
    "name": "ipython",
    "version": 3
   },
   "file_extension": ".py",
   "mimetype": "text/x-python",
   "name": "python",
   "nbconvert_exporter": "python",
   "pygments_lexer": "ipython3",
   "version": "3.13.1"
  }
 },
 "nbformat": 4,
 "nbformat_minor": 2
}
