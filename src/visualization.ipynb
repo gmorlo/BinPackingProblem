{
 "cells": [
  {
   "cell_type": "code",
   "execution_count": 1,
   "metadata": {},
   "outputs": [
    {
     "data": {
      "text/plain": [
       "[5, 3, 6, 8, 7, 3, 7, 2, 8, 8]"
      ]
     },
     "execution_count": 1,
     "metadata": {},
     "output_type": "execute_result"
    }
   ],
   "source": [
    "from bin_packing_solver import solve_bin_packing\n",
    "\n",
    "import random\n",
    "# random.seed(42)\n",
    "\n",
    "sequence = (1,2,3,4,5,6,7,8,9,10)\n",
    "bin_capacity = 10\n",
    "item_list = random.choices(sequence, k=10)\n",
    "\n",
    "item_list"
   ]
  },
  {
   "cell_type": "code",
   "execution_count": null,
   "metadata": {},
   "outputs": [],
   "source": [
    "\n",
    "bins = solve_bin_packing(\"first_fit\",bin_capacity, item_list)\n",
    "for i, bin in enumerate(bins):\n",
    "    print(f\"Bin {i + 1}: {bin.item_list}, Free Space: {bin.free_bin_capacity}\")\n"
   ]
  },
  {
   "cell_type": "markdown",
   "metadata": {},
   "source": [
    "python src/cli.py best_fit 10 4 8 1 4 2 3 6 5\n",
    "\n",
    "python src/cli.py first_fit 10 2 5 4 7 1 3 8\n"
   ]
  }
 ],
 "metadata": {
  "kernelspec": {
   "display_name": "Python 3",
   "language": "python",
   "name": "python3"
  },
  "language_info": {
   "codemirror_mode": {
    "name": "ipython",
    "version": 3
   },
   "file_extension": ".py",
   "mimetype": "text/x-python",
   "name": "python",
   "nbconvert_exporter": "python",
   "pygments_lexer": "ipython3",
   "version": "3.13.1"
  }
 },
 "nbformat": 4,
 "nbformat_minor": 2
}
