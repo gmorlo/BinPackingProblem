{
 "cells": [
  {
   "cell_type": "code",
   "execution_count": 19,
   "metadata": {},
   "outputs": [],
   "source": [
    "from bin_packing_solver import *\n",
    "import numpy as np\n",
    "import random\n",
    "# random.seed(42)\n",
    "\n",
    "# sequence = (1,2,3,4,5,6,7,8,9,10)\n",
    "sequence = np.arange(1, 8)\n",
    "\n",
    "bin_capacity = 10\n",
    "item_list = random.choices(sequence, k=20)\n"
   ]
  },
  {
   "cell_type": "code",
   "execution_count": 7,
   "metadata": {},
   "outputs": [],
   "source": [
    "from utils import *"
   ]
  },
  {
   "cell_type": "code",
   "execution_count": 3,
   "metadata": {},
   "outputs": [
    {
     "name": "stdout",
     "output_type": "stream",
     "text": [
      "Full bins: 166, Not full bins: 383\n",
      "Elapsed time: 0.0361 seconds\n"
     ]
    }
   ],
   "source": [
    "test_solver(\"first_fit\", bin_capacity, item_list)"
   ]
  },
  {
   "cell_type": "code",
   "execution_count": 4,
   "metadata": {},
   "outputs": [
    {
     "name": "stdout",
     "output_type": "stream",
     "text": [
      "Full bins: 408, Not full bins: 123\n",
      "Elapsed time: 0.0359 seconds\n"
     ]
    }
   ],
   "source": [
    "test_solver(\"first_fit_decreasing\", bin_capacity, item_list)"
   ]
  },
  {
   "cell_type": "markdown",
   "metadata": {},
   "source": [
    "python src/cli.py first_fit 100 --file data/big_items.json --count \n",
    "\n",
    "python src/cli.py first_fit_decreasing 100 --file data/big_items.json --count \n",
    "\n",
    "python src/cli.py full_bin_packing 100 --file data/big_items.json --count "
   ]
  },
  {
   "cell_type": "code",
   "execution_count": 5,
   "metadata": {},
   "outputs": [
    {
     "name": "stdout",
     "output_type": "stream",
     "text": [
      "Full bins: 408, Not full bins: 123\n",
      "Elapsed time: 0.0547 seconds\n"
     ]
    }
   ],
   "source": [
    "test_solver(\"full_bin_packing\", bin_capacity, item_list)"
   ]
  },
  {
   "cell_type": "code",
   "execution_count": null,
   "metadata": {},
   "outputs": [],
   "source": [
    "import json\n",
    "def load_data_from_file(filepath: str) -> List[int]:\n",
    "    with open(filepath, \"r\") as f:\n",
    "        data = json.load(f)\n",
    "    return data[\"items\"]\n"
   ]
  },
  {
   "cell_type": "code",
   "execution_count": 12,
   "metadata": {},
   "outputs": [
    {
     "name": "stdout",
     "output_type": "stream",
     "text": [
      "Full bins: 4739, Not full bins: 434\n",
      "Elapsed time: 3.1060 seconds\n"
     ]
    }
   ],
   "source": [
    "test_solver(\"full_bin_packing\", bin_capacity, load_data_from_file(\"C:/Users/gabry/Desktop/School_projects/MHE/bin_packing_project/data/big_items.json\"))\n"
   ]
  },
  {
   "cell_type": "markdown",
   "metadata": {},
   "source": [
    "| **Algorytm**           | **Co robi?**                                                                 |\n",
    "|------------------------|------------------------------------------------------------------------------|\n",
    "| **First Fit**          | Wkłada przedmiot do pierwszego pasującego bina                               |\n",
    "| **First Fit Decreasing** | Sortuje malejąco, potem używa `first_fit`                                   |\n",
    "| **Best Fit**           | Wkłada przedmiot do najlepiej dopasowanego bina (najmniej wolnego miejsca, które go jeszcze pomieści) |\n",
    "| **Full Bin Packing**   | Stara się maksymalnie zapełniać biny po kolei, tworząc jeden pełny bin naraz |\n"
   ]
  },
  {
   "cell_type": "code",
   "execution_count": 14,
   "metadata": {},
   "outputs": [],
   "source": [
    "def plot_bins(bins, title):\n",
    "    import matplotlib.pyplot as plt\n",
    "    import random\n",
    "\n",
    "    fig, ax = plt.subplots(figsize=(10, 6))\n",
    "    y_offset = 0\n",
    "    colors = list(plt.cm.tab20.colors)  # Convert to a list to allow shuffling\n",
    "    random.shuffle(colors)  # Shuffle the colors\n",
    "\n",
    "    for bin in bins:\n",
    "        start = 0\n",
    "        for i, item in enumerate(bin.item_list):\n",
    "            ax.broken_barh([(start, item)], (y_offset, 0.5),\n",
    "                           facecolors=colors[i % len(colors)],\n",
    "                           edgecolor='black')\n",
    "            start += item\n",
    "        y_offset += 1\n",
    "\n",
    "    ax.set_title(title)\n",
    "    ax.set_xlabel(\"Bin Capacity\")\n",
    "    ax.set_ylabel(\"Bins\")\n",
    "    plt.show()"
   ]
  },
  {
   "cell_type": "code",
   "execution_count": 22,
   "metadata": {},
   "outputs": [],
   "source": [
    "from typing import List, Tuple\n",
    "\n",
    "def test_solver2(method: str, \n",
    "                bin_capacity: int, \n",
    "                item_list: List,\n",
    "                display_bins_mode: bool = False,\n",
    "                count_bins_mode: bool = True,\n",
    "                visualize: bool = False) -> list[Bin]:\n",
    "    timer.start()\n",
    "    bins = solve_bin_packing(method, bin_capacity, item_list)\n",
    "\n",
    "    if display_bins_mode:\n",
    "        display_bins(bins)\n",
    "    if count_bins_mode:\n",
    "        full_bins, not_full_bins = count_bins(bins)\n",
    "        print(f\"Full bins: {full_bins}, Not full bins: {not_full_bins}\")\n",
    "    if visualize:\n",
    "        plot_bins(bins, title=f\"Method: {method}, Capacity: {bin_capacity}\")\n",
    "\n",
    "    timer.stop()"
   ]
  },
  {
   "cell_type": "code",
   "execution_count": 20,
   "metadata": {},
   "outputs": [
    {
     "name": "stdout",
     "output_type": "stream",
     "text": [
      "Full bins: 7, Not full bins: 1\n"
     ]
    },
    {
     "data": {
      "image/png": "[encoded data removed]",
      "text/plain": [
       "<Figure size 1000x600 with 1 Axes>"
      ]
     },
     "metadata": {},
     "output_type": "display_data"
    },
    {
     "name": "stdout",
     "output_type": "stream",
     "text": [
      "Elapsed time: 0.1691 seconds\n"
     ]
    }
   ],
   "source": [
    "test_solver2(\"full_bin_packing\", bin_capacity, item_list, visualize=True)"
   ]
  },
  {
   "cell_type": "code",
   "execution_count": 23,
   "metadata": {},
   "outputs": [
    {
     "name": "stdout",
     "output_type": "stream",
     "text": [
      "Full bins: 7, Not full bins: 1\n"
     ]
    },
    {
     "data": {
      "image/png": "[encoded data removed]",
      "text/plain": [
       "<Figure size 1000x600 with 1 Axes>"
      ]
     },
     "metadata": {},
     "output_type": "display_data"
    },
    {
     "name": "stdout",
     "output_type": "stream",
     "text": [
      "Elapsed time: 0.1611 seconds\n"
     ]
    }
   ],
   "source": [
    "test_solver2(\"first_fit\", bin_capacity, item_list, visualize=True)"
   ]
  }
 ],
 "metadata": {
  "kernelspec": {
   "display_name": "Python 3",
   "language": "python",
   "name": "python3"
  },
  "language_info": {
   "codemirror_mode": {
    "name": "ipython",
    "version": 3
   },
   "file_extension": ".py",
   "mimetype": "text/x-python",
   "name": "python",
   "nbconvert_exporter": "python",
   "pygments_lexer": "ipython3",
   "version": "3.13.1"
  }
 },
 "nbformat": 4,
 "nbformat_minor": 2
}
