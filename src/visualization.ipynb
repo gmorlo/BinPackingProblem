{
 "cells": [
  {
   "cell_type": "code",
   "execution_count": 4,
   "metadata": {},
   "outputs": [
    {
     "name": "stdout",
     "output_type": "stream",
     "text": [
      "Bin 1: [9, 1], Free Space: 0\n",
      "Bin 2: [7, 2, 1], Free Space: 0\n",
      "Bin 3: [4, 4], Free Space: 2\n",
      "Bin 4: [10], Free Space: 0\n",
      "Bin 5: [9], Free Space: 1\n",
      "Bin 6: [7], Free Space: 3\n"
     ]
    }
   ],
   "source": [
    "from bin_packing_solver import first_fit\n",
    "\n",
    "import random\n",
    "# random.seed(42)\n",
    "\n",
    "sequence = (1,2,3,4,5,6,7,8,9,10)\n",
    "bin_capacity = 10\n",
    "item_list = random.choices(sequence, k=10)\n",
    "\n",
    "bins = first_fit(bin_capacity, item_list)\n",
    "for i, bin in enumerate(bins):\n",
    "    print(f\"Bin {i + 1}: {bin.item_list}, Free Space: {bin.free_bin_capacity}\")\n"
   ]
  }
 ],
 "metadata": {
  "kernelspec": {
   "display_name": "Python 3",
   "language": "python",
   "name": "python3"
  },
  "language_info": {
   "codemirror_mode": {
    "name": "ipython",
    "version": 3
   },
   "file_extension": ".py",
   "mimetype": "text/x-python",
   "name": "python",
   "nbconvert_exporter": "python",
   "pygments_lexer": "ipython3",
   "version": "3.13.1"
  }
 },
 "nbformat": 4,
 "nbformat_minor": 2
}
